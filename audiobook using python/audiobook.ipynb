{
 "cells": [
  {
   "cell_type": "code",
   "execution_count": 3,
   "id": "032ad3ef-4ee4-4bfc-ad43-3b4db02114bf",
   "metadata": {},
   "outputs": [],
   "source": [
    "from gtts import gTTS\n",
    "import os "
   ]
  },
  {
   "cell_type": "code",
   "execution_count": 5,
   "id": "370f3df7-d9ac-4901-8d00-1896b91a2a63",
   "metadata": {},
   "outputs": [],
   "source": [
    "def create_audiobook(text_file, output_file): \n",
    "    with open(text_file, 'r', encoding='utf-8') as file:\n",
    "        text = file.read()\n",
    "\n",
    "    tts = gTTS(text=text, lang='en')\n",
    "    tts.save(output_file)\n",
    "    print(f\"Audiobook saved as {output_file}\")"
   ]
  },
  {
   "cell_type": "code",
   "execution_count": 9,
   "id": "1b6995d4-be13-40e5-a3f1-95ebf817944f",
   "metadata": {},
   "outputs": [
    {
     "name": "stdout",
     "output_type": "stream",
     "text": [
      "Audiobook saved as C:/Users/Sumaiya/Downloads/temp_download/audiobook/audiotext.mp3\n"
     ]
    },
    {
     "data": {
      "text/plain": [
       "0"
      ]
     },
     "execution_count": 9,
     "metadata": {},
     "output_type": "execute_result"
    }
   ],
   "source": [
    "text_file = 'C:/Users/Sumaiya/Downloads/temp_download/audiobook/audiotext.txt'\n",
    "output_file = 'C:/Users/Sumaiya/Downloads/temp_download/audiobook/audiotext.mp3'\n",
    "\n",
    "create_audiobook(text_file, output_file)\n",
    "os.system(f\"Start {output_file}\")"
   ]
  }
 ],
 "metadata": {
  "kernelspec": {
   "display_name": "Python 3 (ipykernel)",
   "language": "python",
   "name": "python3"
  },
  "language_info": {
   "codemirror_mode": {
    "name": "ipython",
    "version": 3
   },
   "file_extension": ".py",
   "mimetype": "text/x-python",
   "name": "python",
   "nbconvert_exporter": "python",
   "pygments_lexer": "ipython3",
   "version": "3.12.4"
  }
 },
 "nbformat": 4,
 "nbformat_minor": 5
}
