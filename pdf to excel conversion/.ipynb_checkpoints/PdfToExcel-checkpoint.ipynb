{
 "cells": [
  {
   "cell_type": "code",
   "execution_count": 3,
   "id": "0f91e4a6-88f0-4f78-a613-601a55960c51",
   "metadata": {},
   "outputs": [],
   "source": [
    "import pdfplumber\n",
    "import pandas as pd "
   ]
  },
  {
   "cell_type": "code",
   "execution_count": 7,
   "id": "f7c1e349-ef12-469a-8a7e-583b271ddf6f",
   "metadata": {},
   "outputs": [],
   "source": [
    "def pdf_to_excel(pdf_file, excel_file):\n",
    "    with pdfplumber.open(pdf_file) as pdf: \n",
    "        all_tables = []\n",
    "        for page in pdf.pages: \n",
    "            tables =page.extract_tables()\n",
    "            for table in tables:\n",
    "                if table:\n",
    "                    df = pd.DataFrame(table) \n",
    "                    all_tables.append(df) \n",
    "        if not all_tables:\n",
    "            all_tables.append(pd.DataFrame([[\"No tables Found\"]]))\n",
    "\n",
    "        with pd.ExcelWriter(excel_file, engine=\"openpyxl\") as writer:\n",
    "            for idx, df in enumerate(all_tables):\n",
    "                df.to_excel(writer, sheet_name=f'Sheet{idx-1}', index=False)"
   ]
  },
  {
   "cell_type": "code",
   "execution_count": 15,
   "id": "63896389-675b-48c9-bde2-12d8c132e15f",
   "metadata": {
    "scrolled": true
   },
   "outputs": [],
   "source": [
    "# pdf_file= 'C:/Users/Sumaiya/Downloads/temp_download/Requirement Document Detailed.pdf' \n",
    "pdf_file= 'C:/Users/Sumaiya/Downloads/AI-usage-report.pdf'\n",
    "excel_file= 'C:/Users/Sumaiya/Downloads/temp_download/AI-usage-report.xlsx'\n",
    "pdf_to_excel(pdf_file, excel_file)"
   ]
  }
 ],
 "metadata": {
  "kernelspec": {
   "display_name": "Python 3 (ipykernel)",
   "language": "python",
   "name": "python3"
  },
  "language_info": {
   "codemirror_mode": {
    "name": "ipython",
    "version": 3
   },
   "file_extension": ".py",
   "mimetype": "text/x-python",
   "name": "python",
   "nbconvert_exporter": "python",
   "pygments_lexer": "ipython3",
   "version": "3.12.4"
  }
 },
 "nbformat": 4,
 "nbformat_minor": 5
}
